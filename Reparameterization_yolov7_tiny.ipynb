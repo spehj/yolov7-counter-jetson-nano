{
  "cells": [
    {
      "cell_type": "markdown",
      "id": "d7cbe5ee",
      "metadata": {
        "id": "d7cbe5ee"
      },
      "source": [
        "# Reparameterization"
      ]
    },
    {
      "cell_type": "markdown",
      "id": "9725e211",
      "metadata": {
        "id": "9725e211"
      },
      "source": [
        "\n",
        "### What is Reparameterization ?\n",
        "Reparameterization is used to reduce trainable BoF modules into deploy model for fast inference. For example merge BN to conv, merge YOLOR to conv, ..etc\n",
        "However, before reparameterization, the model has more parameters and computation cost.reparameterized model (cfg/deploy) used for deployment purpose\n",
        "\n",
        "\n",
        "\n",
        "### Steps required for model conversion.\n",
        "1.train custom model & you will get your own weight i.e custom_weight.pt / use (pretrained weight which is available i.e yolov7_traing.pt)\n",
        "\n",
        "2.Converting this weight using  Reparameterization  method.\n",
        "\n",
        "3.Trained model (cfg/training) and reparameterized model (cfg/deploy) will get same prediction results.\n",
        "However, before reparameterization, the model has more parameters and computation cost.\n",
        "\n",
        "4.Convert reparameterized weight into onnx & tensorrt\n",
        "For faster inference & deployment purpose."
      ]
    },
    {
      "cell_type": "code",
      "source": [
        "from google.colab import drive\n",
        "drive.mount('/content/gdrive/')"
      ],
      "metadata": {
        "colab": {
          "base_uri": "https://localhost:8080/"
        },
        "id": "UPQQnmI5ydqP",
        "outputId": "d8d3e319-6c41-44db-f0f1-7d9c26eb0396"
      },
      "id": "UPQQnmI5ydqP",
      "execution_count": null,
      "outputs": [
        {
          "output_type": "stream",
          "name": "stdout",
          "text": [
            "Drive already mounted at /content/gdrive/; to attempt to forcibly remount, call drive.mount(\"/content/gdrive/\", force_remount=True).\n"
          ]
        }
      ]
    },
    {
      "cell_type": "code",
      "source": [
        "%cd /content/gdrive/MyDrive/yolov7-tiny/yolov7\n",
        "%ls"
      ],
      "metadata": {
        "colab": {
          "base_uri": "https://localhost:8080/"
        },
        "id": "l_yV3nKayedI",
        "outputId": "9f81f757-1afc-48a7-f02e-2f2e90277a1f"
      },
      "id": "l_yV3nKayedI",
      "execution_count": null,
      "outputs": [
        {
          "output_type": "stream",
          "name": "stdout",
          "text": [
            "/content/gdrive/MyDrive/yolov7-tiny/yolov7\n",
            "\u001b[0m\u001b[01;34mcfg\u001b[0m/       \u001b[01;34mfigure\u001b[0m/     \u001b[01;34mpaper\u001b[0m/            \u001b[01;34mscripts\u001b[0m/      \u001b[01;34mutils\u001b[0m/\n",
            "\u001b[01;34mdata\u001b[0m/      hubconf.py  \u001b[01;34m__pycache__\u001b[0m/      test.py       yolov7-tiny.pt\n",
            "\u001b[01;34mdeploy\u001b[0m/    \u001b[01;34minference\u001b[0m/  README.md         \u001b[01;34mtools\u001b[0m/\n",
            "detect.py  LICENSE.md  requirements.txt  train_aux.py\n",
            "export.py  \u001b[01;34mmodels\u001b[0m/     \u001b[01;34mruns\u001b[0m/             train.py\n"
          ]
        }
      ]
    },
    {
      "cell_type": "markdown",
      "id": "13393b70",
      "metadata": {
        "id": "13393b70"
      },
      "source": [
        "## YOLOv7t reparameterization\n",
        "Adjust paths according to your Google drive structure"
      ]
    },
    {
      "cell_type": "code",
      "execution_count": null,
      "id": "bf53becf",
      "metadata": {
        "colab": {
          "base_uri": "https://localhost:8080/"
        },
        "id": "bf53becf",
        "outputId": "a5098e7f-de4c-4302-b49d-cffd26abd04e"
      },
      "outputs": [
        {
          "output_type": "stream",
          "name": "stdout",
          "text": [
            "Anchors:  3\n"
          ]
        }
      ],
      "source": [
        "# import\n",
        "from copy import deepcopy\n",
        "from models.yolo import Model\n",
        "import torch\n",
        "from utils.torch_utils import select_device, is_parallel\n",
        "import yaml\n",
        "\n",
        "device = select_device('0', batch_size=1)\n",
        "# model trained by cfg/training/*.yaml\n",
        "ckpt = torch.load('runs/train/yolov7-tiny-custom7/weights/best.pt', map_location=device)\n",
        "# reparameterized model in cfg/deploy/*.yaml\n",
        "model = Model('cfg/deploy/yolov7-tiny-custom.yaml', ch=3, nc=2).to(device)\n",
        "\n",
        "with open('cfg/deploy/yolov7-tiny-custom.yaml') as f:\n",
        "    yml = yaml.load(f, Loader=yaml.SafeLoader)\n",
        "anchors = len(yml['anchors'][0]) // 2\n",
        "print(\"Anchors: \", anchors)\n",
        "# copy intersect weights\n",
        "state_dict = ckpt['model'].float().state_dict()\n",
        "exclude = []\n",
        "intersect_state_dict = {k: v for k, v in state_dict.items() if k in model.state_dict() and not any(x in k for x in exclude) and v.shape == model.state_dict()[k].shape}\n",
        "model.load_state_dict(intersect_state_dict, strict=False)\n",
        "model.names = ckpt['model'].names\n",
        "model.nc = ckpt['model'].nc\n",
        "\n",
        "# reparametrized YOLOR\n",
        "for i in range((model.nc+5)*anchors):\n",
        "    model.state_dict()['model.77.m.0.weight'].data[i, :, :, :] *= state_dict['model.77.im.0.implicit'].data[:, i, : :].squeeze()\n",
        "    model.state_dict()['model.77.m.1.weight'].data[i, :, :, :] *= state_dict['model.77.im.1.implicit'].data[:, i, : :].squeeze()\n",
        "    model.state_dict()['model.77.m.2.weight'].data[i, :, :, :] *= state_dict['model.77.im.2.implicit'].data[:, i, : :].squeeze()\n",
        "model.state_dict()['model.77.m.0.bias'].data += state_dict['model.77.m.0.weight'].mul(state_dict['model.77.ia.0.implicit']).sum(1).squeeze()\n",
        "model.state_dict()['model.77.m.1.bias'].data += state_dict['model.77.m.1.weight'].mul(state_dict['model.77.ia.1.implicit']).sum(1).squeeze()\n",
        "model.state_dict()['model.77.m.2.bias'].data += state_dict['model.77.m.2.weight'].mul(state_dict['model.77.ia.2.implicit']).sum(1).squeeze()\n",
        "model.state_dict()['model.77.m.0.bias'].data *= state_dict['model.77.im.0.implicit'].data.squeeze()\n",
        "model.state_dict()['model.77.m.1.bias'].data *= state_dict['model.77.im.1.implicit'].data.squeeze()\n",
        "model.state_dict()['model.77.m.2.bias'].data *= state_dict['model.77.im.2.implicit'].data.squeeze()\n",
        "\n",
        "# model to be saved\n",
        "ckpt = {'model': deepcopy(model.module if is_parallel(model) else model).half(),\n",
        "        'optimizer': None,\n",
        "        'training_results': None,\n",
        "        'epoch': -1}\n",
        "\n",
        "# save reparameterized model\n",
        "torch.save(ckpt, 'cfg/deploy/yolov7-tiny-rep-best.pt')\n"
      ]
    }
  ],
  "metadata": {
    "kernelspec": {
      "display_name": "Python 3",
      "name": "python3"
    },
    "language_info": {
      "codemirror_mode": {
        "name": "ipython",
        "version": 3
      },
      "file_extension": ".py",
      "mimetype": "text/x-python",
      "name": "python",
      "nbconvert_exporter": "python",
      "pygments_lexer": "ipython3",
      "version": "3.9.7"
    },
    "vscode": {
      "interpreter": {
        "hash": "73080970ff6fd25f9fcdf9c6f9e85b950a97864bb936ee53fb633f473cbfae4b"
      }
    },
    "colab": {
      "provenance": [],
      "gpuType": "T4"
    },
    "accelerator": "GPU"
  },
  "nbformat": 4,
  "nbformat_minor": 5
}